{
 "cells": [
  {
   "cell_type": "markdown",
   "metadata": {},
   "source": [
    "# Adjencency matrix\n",
    "</h2>\n",
    "one of the way to show graph,\n",
    "<br>\n",
    "this implementation is simple type (not weighted),\n",
    "<br>\n",
    "but you can use for both directed graph or undirected graph (defualt in undirected)\n",
    "<h2/>    \n"
   ]
  },
  {
   "cell_type": "markdown",
   "metadata": {},
   "source": [
    "# Packages"
   ]
  },
  {
   "cell_type": "code",
   "execution_count": 1,
   "metadata": {},
   "outputs": [],
   "source": [
    "import numpy as np"
   ]
  },
  {
   "cell_type": "markdown",
   "metadata": {},
   "source": [
    "## Source"
   ]
  },
  {
   "cell_type": "code",
   "execution_count": 61,
   "metadata": {},
   "outputs": [],
   "source": [
    "class AdjcencyMatrix:\n",
    "    def __init__(self, size):\n",
    "        self.size = size\n",
    "        V = (size, size)\n",
    "        self.graph = np.zeros(V)\n",
    "\n",
    "    def addEdge(self, x, y, x_in_y_out=True):\n",
    "        if x >= self.size or y >= self.size:\n",
    "            raise ValueError(\"vertex does not exist !!\")\n",
    "        \n",
    "        elif x==y:\n",
    "            return \"Same vertex\"\n",
    "\n",
    "        else:\n",
    "            if x_in_y_out:\n",
    "                self.graph[x][y] = 1\n",
    "            \n",
    "            else:\n",
    "                self.graph[x][y] = -1\n",
    "\n",
    "    def addVertex(self):\n",
    "        old = self.graph\n",
    "        new = np.zeros( (self.size + 1, self.size + 1) )\n",
    "        self.size += 1\n",
    "        self.graph =  new[:len(new)-1,:len(new)-1] = old[:][:]\n",
    "\n",
    "        print(old)\n",
    "        print(new)\n",
    "\n",
    "\n",
    "    def showGraph(self):\n",
    "        return self.graph\n"
   ]
  },
  {
   "cell_type": "markdown",
   "metadata": {},
   "source": [
    "# Unit Test"
   ]
  },
  {
   "cell_type": "code",
   "execution_count": 67,
   "metadata": {},
   "outputs": [
    {
     "name": "stdout",
     "output_type": "stream",
     "text": [
      "[[0. 0. 0. 0. 0.]\n",
      " [0. 0. 1. 0. 0.]\n",
      " [0. 0. 0. 0. 0.]\n",
      " [0. 0. 0. 0. 0.]\n",
      " [0. 0. 0. 0. 0.]]\n"
     ]
    }
   ],
   "source": [
    "Graph = AdjcencyMatrix(5)\n",
    "\n",
    "Graph.addEdge(1, 2)\n",
    "\n",
    "# print(Graph.showGraph())\n",
    "\n",
    "# Graph.addVertex()\n",
    "\n",
    "# print(Graph.showGraph())\n",
    "\n",
    "Graph.addVertex()\n",
    "\n",
    "print(Graph.showGraph())\n"
   ]
  },
  {
   "cell_type": "code",
   "execution_count": 56,
   "metadata": {},
   "outputs": [
    {
     "name": "stdout",
     "output_type": "stream",
     "text": [
      "[[0. 0. 0. 0. 2.]\n",
      " [0. 1. 3. 0. 0.]\n",
      " [0. 0. 0. 0. 0.]\n",
      " [0. 0. 0. 0. 0.]\n",
      " [0. 0. 0. 0. 0.]]\n",
      "[[0. 0. 0. 0. 2. 0.]\n",
      " [0. 1. 3. 0. 0. 0.]\n",
      " [0. 0. 0. 0. 0. 0.]\n",
      " [0. 0. 0. 0. 0. 0.]\n",
      " [0. 0. 0. 0. 0. 0.]\n",
      " [0. 0. 0. 0. 0. 0.]]\n"
     ]
    }
   ],
   "source": [
    "\n",
    "\n",
    "a = np.zeros((5,5))\n",
    "\n",
    "a[1][1] = 1\n",
    "a[1][2] = 3\n",
    "a[0][4] = 2\n",
    "\n",
    "# print(a)\n",
    "\n",
    "\n",
    "b = np.zeros( (6,6) )\n",
    "\n",
    "b[:len(b)-1:][:len(b)-1:] = a[:][:]\n",
    "\n"
   ]
  },
  {
   "cell_type": "code",
   "execution_count": null,
   "metadata": {},
   "outputs": [],
   "source": []
  }
 ],
 "metadata": {
  "interpreter": {
   "hash": "770021e68aae5e5bc49f7a3b6edb919a4a251fef8e7696fd47196c25263b13c4"
  },
  "kernelspec": {
   "display_name": "Python 3.8.5 64-bit ('base': conda)",
   "language": "python",
   "name": "python3"
  },
  "language_info": {
   "codemirror_mode": {
    "name": "ipython",
    "version": 3
   },
   "file_extension": ".py",
   "mimetype": "text/x-python",
   "name": "python",
   "nbconvert_exporter": "python",
   "pygments_lexer": "ipython3",
   "version": "3.8.5"
  },
  "orig_nbformat": 4
 },
 "nbformat": 4,
 "nbformat_minor": 2
}
